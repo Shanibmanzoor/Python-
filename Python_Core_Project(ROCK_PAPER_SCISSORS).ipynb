{
  "nbformat": 4,
  "nbformat_minor": 0,
  "metadata": {
    "colab": {
      "provenance": []
    },
    "kernelspec": {
      "name": "python3",
      "display_name": "Python 3"
    },
    "language_info": {
      "name": "python"
    }
  },
  "cells": [
    {
      "cell_type": "code",
      "execution_count": 1,
      "metadata": {
        "id": "UuU034rdLs3e"
      },
      "outputs": [],
      "source": [
        "import random\n",
        "import time\n"
      ]
    },
    {
      "cell_type": "code",
      "source": [
        "rock = 1\n",
        "paper = 2\n",
        "scissors = 3"
      ],
      "metadata": {
        "id": "RNrOZ0vaNLz4"
      },
      "execution_count": 2,
      "outputs": []
    },
    {
      "cell_type": "code",
      "source": [
        "name = {\n",
        "    rock : \"Rock\",\n",
        "    paper : \"Paper\",\n",
        "    scissors : \"Scissors\"\n",
        "}\n"
      ],
      "metadata": {
        "id": "PmZv-UGLOFfH"
      },
      "execution_count": 3,
      "outputs": []
    },
    {
      "cell_type": "code",
      "source": [
        "rules = {\n",
        "    rock : scissors,\n",
        "    paper : rock,\n",
        "    scissors : paper\n",
        "}\n",
        "\n"
      ],
      "metadata": {
        "id": "TQZvj5SLOXP4"
      },
      "execution_count": 4,
      "outputs": []
    },
    {
      "cell_type": "code",
      "source": [
        "player_score = 0\n",
        "computer_score = 0"
      ],
      "metadata": {
        "id": "BXgKKjrwObr_"
      },
      "execution_count": 5,
      "outputs": []
    },
    {
      "cell_type": "code",
      "source": [
        "def start():\n",
        "  print(\"Lets' Play a Game of ROCK PAPER AND SCISSORS\")\n",
        "  print(\"------------------------------------------------\")\n",
        "  while game():\n",
        "    pass\n",
        "  scores()"
      ],
      "metadata": {
        "id": "SispEGHgO1v9"
      },
      "execution_count": 6,
      "outputs": []
    },
    {
      "cell_type": "code",
      "source": [
        "def game():\n",
        "  player = move()\n",
        "  computer = random.randint(1,3)\n",
        "  print(f\"You chose {name[player]}\")\n",
        "  print(f\"Computer chose {name[computer]}\")\n",
        "  result(player, computer)\n",
        "  return play_again()\n",
        ""
      ],
      "metadata": {
        "id": "HmwIAzk7O6-H"
      },
      "execution_count": 7,
      "outputs": []
    },
    {
      "cell_type": "code",
      "source": [
        "def move():\n",
        "  while True:\n",
        "    player = input(\"Rock = 1\\n Paper = 2\\n Scissors = 3\\n\")\n",
        "    try:\n",
        "      player = int(player)\n",
        "      if player in (1, 2, 3):\n",
        "        return player\n",
        "    except ValueError:\n",
        "      pass\n",
        "      print(\"OOPS ! I didn't Understand Please Choose 1 ,2 or 3 \")\n",
        "\n",
        "\n",
        "\n",
        "\n",
        "\n"
      ],
      "metadata": {
        "id": "AXb0sFq_O9t_"
      },
      "execution_count": 8,
      "outputs": []
    },
    {
      "cell_type": "code",
      "source": [
        "def result(player , computer):\n",
        "  print(\"1.....\")\n",
        "  time.sleep(0.5)\n",
        "  print(\"2.....\")\n",
        "  time.sleep(0.5)\n",
        "  print(\"3.....\")\n",
        "  time.sleep(0.5)\n",
        "\n",
        "  print(\"Computer Throw {0}\".format(name[computer]))\n",
        "  global player_score\n",
        "  global computer_score\n",
        "\n",
        "  if player == computer :\n",
        "    print(\"TIE GAME.....\")\n",
        "  else:\n",
        "    if rules[player] == computer:\n",
        "      print(\"YOU ARE THE WINNER!!!!!!!!!!\")\n",
        "      player_score += 1\n",
        "    else:\n",
        "      print(\"Computer Win ! AND He Laughts at You !!!!\")\n",
        "      computer_score += 1\n",
        "\n"
      ],
      "metadata": {
        "id": "mbWaotFHPAKJ"
      },
      "execution_count": 9,
      "outputs": []
    },
    {
      "cell_type": "code",
      "source": [
        "def play_again():\n",
        "  answer = input(\"Would You like to Play again !!!! ? (y/n)\")\n",
        "  if answer in (\"y\", \"yes\", \"YES\", \"Yes\", \"Of Course\"):\n",
        "    return answer\n",
        "  else:\n",
        "    print(\"THANK YOU SO MUCH FOR PLAYING THE GAME\")\n",
        "\n",
        "\n"
      ],
      "metadata": {
        "id": "on6eLryDPExn"
      },
      "execution_count": 10,
      "outputs": []
    },
    {
      "cell_type": "code",
      "source": [
        "def scores():\n",
        "  global player_score\n",
        "  global computer_score\n",
        "  print(f\"Your Score : {player_score}\")\n",
        "  print(f\"Computer Score : {computer_score}\")\n",
        "\n"
      ],
      "metadata": {
        "id": "7dBztmlQPKnV"
      },
      "execution_count": 11,
      "outputs": []
    },
    {
      "cell_type": "code",
      "source": [
        "if __name__ == \"__main__\":\n",
        "  start()\n"
      ],
      "metadata": {
        "colab": {
          "base_uri": "https://localhost:8080/"
        },
        "id": "_MkT1D2oPOWR",
        "outputId": "7fb3c27c-f09f-4ad3-d56b-7487dc12ed90"
      },
      "execution_count": 14,
      "outputs": [
        {
          "output_type": "stream",
          "name": "stdout",
          "text": [
            "Lets' Play a Game of ROCK PAPER AND SCISSORS\n",
            "------------------------------------------------\n",
            "Rock = 1\n",
            " Paper = 2\n",
            " Scissors = 3\n",
            "1\n",
            "You chose Rock\n",
            "Computer chose Scissors\n",
            "1.....\n",
            "2.....\n",
            "3.....\n",
            "Computer Throw Scissors\n",
            "YOU ARE THE WINNER!!!!!!!!!!\n",
            "Would You like to Play again !!!! ? (y/n)n\n",
            "THANK YOU SO MUCH FOR PLAYING THE GAME\n",
            "Your Score : 1\n",
            "Computer Score : 1\n"
          ]
        }
      ]
    },
    {
      "cell_type": "code",
      "source": [],
      "metadata": {
        "id": "ig3US_OjQBpn"
      },
      "execution_count": 14,
      "outputs": []
    },
    {
      "cell_type": "code",
      "source": [],
      "metadata": {
        "id": "CYmNm8XdQDI9"
      },
      "execution_count": null,
      "outputs": []
    }
  ]
}