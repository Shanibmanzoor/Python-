{
  "nbformat": 4,
  "nbformat_minor": 0,
  "metadata": {
    "colab": {
      "provenance": []
    },
    "kernelspec": {
      "name": "python3",
      "display_name": "Python 3"
    },
    "language_info": {
      "name": "python"
    }
  },
  "cells": [
    {
      "cell_type": "code",
      "execution_count": null,
      "metadata": {
        "id": "v3OiCi8DYMLM"
      },
      "outputs": [],
      "source": [
        "# Features:\n",
        "# Add a New task\n",
        "# List Down all tasks\n",
        "# Mark a test as a Complete\n",
        "# Delete a task\n",
        "# List out all the completed task\n",
        "# Exit the Program\n",
        "\n",
        "\n",
        "\n",
        "\n"
      ]
    },
    {
      "cell_type": "code",
      "source": [
        "import datetime"
      ],
      "metadata": {
        "id": "jYAPrpLVY0tg"
      },
      "execution_count": null,
      "outputs": []
    },
    {
      "cell_type": "code",
      "source": [
        "# Add a New task\n",
        "tasks = []\n",
        "\n",
        "def add_task():\n",
        "  title = input(\"Enter task Title: \")\n",
        "  description = input(\"Enter task Description: \")\n",
        "  due_date = input(\"Enter due date (YYYY-MM-DD) :\")\n",
        "  due_date = datetime.datetime.strptime(due_date, '%Y-%m-%d')\n",
        "  task = {\n",
        "      'title': title,\n",
        "      'description': description,\n",
        "      'due_date': due_date,\n",
        "      'completed': False\n",
        "  }\n",
        "  tasks.append(task)\n",
        "  print(\"Task added successfully!\")\n",
        "  print(f\"Task '{title}' added \")\n",
        "\n",
        "\n",
        "\n",
        "\n"
      ],
      "metadata": {
        "id": "ofwrUOQMY5Yi"
      },
      "execution_count": null,
      "outputs": []
    },
    {
      "cell_type": "code",
      "source": [
        "# List Down all tasks\n",
        "\n",
        "def list_tasks():\n",
        "  if not tasks:\n",
        "    print(\"No tasks found.\")\n",
        "  else:\n",
        "    print(\"All Tasks:\")\n",
        "    for  i , task in enumerate(tasks):\n",
        "      status = \"completed\" if task['completed'] else \"incomplete\"\n",
        "      print(f\"{i+1}. {task['title']} - {status} (Due: {task['due_date'].strftime('%Y-%m-%d')})\")\n",
        "\n",
        "\n",
        "\n",
        "\n"
      ],
      "metadata": {
        "id": "unqjJJocaKd0"
      },
      "execution_count": null,
      "outputs": []
    },
    {
      "cell_type": "code",
      "source": [
        "# Mark a test as a Complete\n",
        "\n",
        "def mark_task_complete():\n",
        "  list_tasks()\n",
        "  task_number = int(input(\"Enter the task number to mark as complete: \"))\n",
        "  if 0 <= task_number <= len(tasks):\n",
        "    tasks[task_number - 1]['completed'] = True\n",
        "    print(f\"Task '{tasks[task_number - 1]['title']}' marked as complete.\")\n",
        "  else:\n",
        "    print(\"Invalid task number.\")\n",
        "\n",
        "\n"
      ],
      "metadata": {
        "id": "uN-tHpmRaKW7"
      },
      "execution_count": null,
      "outputs": []
    },
    {
      "cell_type": "code",
      "source": [
        "# Delete a task\n",
        "def delete_task():\n",
        "  list_tasks()\n",
        "  task_number = int(input(\"Enter the task number to delete: \"))\n",
        "  if 0 <= task_number <= len(tasks):\n",
        "    removed_task =  tasks.pop(task_number)\n",
        "    print(f\"Task '{removed_task['title']}' deleted.\")\n",
        "  else:\n",
        "    print(\"Invalid task number.\")\n",
        "\n"
      ],
      "metadata": {
        "id": "zkYzZX-taKUf"
      },
      "execution_count": null,
      "outputs": []
    },
    {
      "cell_type": "code",
      "source": [
        "# List out all the completed task\n",
        "def list_completed_tasks():\n",
        "  completed_tasks = [task for task in tasks if task['completed']]\n",
        "  if not completed_tasks:\n",
        "    print(\"No completed tasks found.\")\n",
        "  else:\n",
        "    print(\"Completed Tasks:\")\n",
        "    for i , task in enumerate(completed_tasks):\n",
        "      print(f\"{i+1}. {task['title']} (Due: {task['due_date'].strftime('%Y-%m-%d')})\")\n",
        "\n",
        "\n",
        "\n",
        "\n"
      ],
      "metadata": {
        "id": "XQwRsFezcvcB"
      },
      "execution_count": null,
      "outputs": []
    },
    {
      "cell_type": "code",
      "source": [
        "#Main Function to run the task management System\n",
        "\n",
        "def main():\n",
        "  while True:\n",
        "    print(\"TASK MANAGEMENT SYSTEM MENU:\")\n",
        "    print(\"1. Add a New task\")\n",
        "    print(\"2. List All tasks\")\n",
        "    print(\"3. Mark  task as  Complete\")\n",
        "    print(\"4. Delete a task\")\n",
        "    print(\"5. List completed task\")\n",
        "    print(\"6. Exit\")\n",
        "\n",
        "    choice = input(\"Enter your choice: \")\n",
        "\n",
        "    if choice == '1':\n",
        "      add_task()\n",
        "    elif choice == '2':\n",
        "      list_tasks()\n",
        "    elif choice == '3':\n",
        "      mark_task_complete()\n",
        "    elif choice == '4':\n",
        "      delete_task()\n",
        "    elif choice == '5':\n",
        "      list_completed_tasks()\n",
        "    elif choice == '6':\n",
        "      print(\"EXIT THE TASK MANAGEMENT SYSTEM:\")\n",
        "      break\n",
        "    else:\n",
        "      print(\"Invalid choice. Please try again.\")"
      ],
      "metadata": {
        "id": "lR1GS0WRdDkc"
      },
      "execution_count": null,
      "outputs": []
    },
    {
      "cell_type": "code",
      "source": [
        "if __name__ == '__main__':\n",
        "  main()\n",
        "\n"
      ],
      "metadata": {
        "colab": {
          "base_uri": "https://localhost:8080/"
        },
        "id": "sjBHMyO-dvTp",
        "outputId": "709ee72a-772c-441a-e41b-f5c6cd63685f"
      },
      "execution_count": null,
      "outputs": [
        {
          "output_type": "stream",
          "name": "stdout",
          "text": [
            "TASK MANAGEMENT SYSTEM MENU:\n",
            "1. Add a New task\n",
            "2. List All tasks\n",
            "3. Mark  task as  Complete\n",
            "4. Delete a task\n",
            "5. List completed task\n",
            "6. Exit\n",
            "Enter your choice: 1\n",
            "Enter task Title: Gym \n",
            "Enter task Description: For Fitnesss\n",
            "Enter due date (YYYY-MM-DD) :2024-06-22\n",
            "Task added successfully!\n",
            "Task 'Gym ' added \n",
            "TASK MANAGEMENT SYSTEM MENU:\n",
            "1. Add a New task\n",
            "2. List All tasks\n",
            "3. Mark  task as  Complete\n",
            "4. Delete a task\n",
            "5. List completed task\n",
            "6. Exit\n",
            "Enter your choice: 1\n",
            "Enter task Title: Learning Python\n",
            "Enter task Description: I've to covered till functions topics\n",
            "Enter due date (YYYY-MM-DD) :2024-06-24\n",
            "Task added successfully!\n",
            "Task 'Learning Python' added \n",
            "TASK MANAGEMENT SYSTEM MENU:\n",
            "1. Add a New task\n",
            "2. List All tasks\n",
            "3. Mark  task as  Complete\n",
            "4. Delete a task\n",
            "5. List completed task\n",
            "6. Exit\n",
            "Enter your choice: 2\n",
            "All Tasks:\n",
            "1. Gym  - incomplete (Due: 2024-06-22)\n",
            "2. Learning Python - incomplete (Due: 2024-06-24)\n",
            "TASK MANAGEMENT SYSTEM MENU:\n",
            "1. Add a New task\n",
            "2. List All tasks\n",
            "3. Mark  task as  Complete\n",
            "4. Delete a task\n",
            "5. List completed task\n",
            "6. Exit\n",
            "Enter your choice: 3\n",
            "All Tasks:\n",
            "1. Gym  - incomplete (Due: 2024-06-22)\n",
            "2. Learning Python - incomplete (Due: 2024-06-24)\n",
            "Enter the task number to mark as complete: 1\n",
            "Task 'Gym ' marked as complete.\n",
            "TASK MANAGEMENT SYSTEM MENU:\n",
            "1. Add a New task\n",
            "2. List All tasks\n",
            "3. Mark  task as  Complete\n",
            "4. Delete a task\n",
            "5. List completed task\n",
            "6. Exit\n",
            "Enter your choice: 5\n",
            "Completed Tasks:\n",
            "1. Gym  (Due: 2024-06-22)\n",
            "TASK MANAGEMENT SYSTEM MENU:\n",
            "1. Add a New task\n",
            "2. List All tasks\n",
            "3. Mark  task as  Complete\n",
            "4. Delete a task\n",
            "5. List completed task\n",
            "6. Exit\n",
            "Enter your choice: 4\n",
            "All Tasks:\n",
            "1. Gym  - completed (Due: 2024-06-22)\n",
            "2. Learning Python - incomplete (Due: 2024-06-24)\n",
            "Enter the task number to delete: 1\n",
            "Task 'Learning Python' deleted.\n",
            "TASK MANAGEMENT SYSTEM MENU:\n",
            "1. Add a New task\n",
            "2. List All tasks\n",
            "3. Mark  task as  Complete\n",
            "4. Delete a task\n",
            "5. List completed task\n",
            "6. Exit\n",
            "Enter your choice: 6\n",
            "EXIT THE TASK MANAGEMENT SYSTEM:\n"
          ]
        }
      ]
    },
    {
      "cell_type": "code",
      "source": [],
      "metadata": {
        "id": "zMYnM8DkdyL4"
      },
      "execution_count": null,
      "outputs": []
    }
  ]
}